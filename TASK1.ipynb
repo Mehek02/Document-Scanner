{
 "cells": [
  {
   "cell_type": "code",
   "execution_count": 1,
   "id": "2e154de2",
   "metadata": {},
   "outputs": [
    {
     "name": "stdout",
     "output_type": "stream",
     "text": [
      "Requirement already satisfied: imutils in c:\\users\\hp\\anaconda3\\lib\\site-packages (0.5.4)\n",
      "Note: you may need to restart the kernel to use updated packages.\n"
     ]
    }
   ],
   "source": [
    "pip install imutils "
   ]
  },
  {
   "cell_type": "code",
   "execution_count": 2,
   "id": "e5cd3654",
   "metadata": {},
   "outputs": [
    {
     "name": "stdout",
     "output_type": "stream",
     "text": [
      "Requirement already satisfied: opencv-python in c:\\users\\hp\\appdata\\roaming\\python\\python39\\site-packages (4.5.5.64)\n",
      "Requirement already satisfied: numpy>=1.19.3 in c:\\users\\hp\\appdata\\roaming\\python\\python39\\site-packages (from opencv-python) (1.22.3)\n",
      "Note: you may need to restart the kernel to use updated packages.\n"
     ]
    }
   ],
   "source": [
    "pip install opencv-python"
   ]
  },
  {
   "cell_type": "code",
   "execution_count": 3,
   "id": "edf591a8",
   "metadata": {},
   "outputs": [
    {
     "name": "stdout",
     "output_type": "stream",
     "text": [
      "Requirement already satisfied: scipy in c:\\users\\hp\\anaconda3\\lib\\site-packages (1.7.1)\n",
      "Requirement already satisfied: numpy<1.23.0,>=1.16.5 in c:\\users\\hp\\appdata\\roaming\\python\\python39\\site-packages (from scipy) (1.22.3)\n",
      "Note: you may need to restart the kernel to use updated packages.\n"
     ]
    }
   ],
   "source": [
    "pip install scipy"
   ]
  },
  {
   "cell_type": "code",
   "execution_count": 4,
   "id": "f43ff30f",
   "metadata": {},
   "outputs": [],
   "source": [
    "import numpy as np\n",
    "import cv2 as cv\n",
    "from matplotlib import pyplot as plt\n",
    "import imutils\n",
    "from imutils.perspective import four_point_transform\n",
    "blue = (255,0,0)\n",
    "green = (0,255,0)"
   ]
  },
  {
   "cell_type": "code",
   "execution_count": 5,
   "id": "e9775b38",
   "metadata": {},
   "outputs": [],
   "source": [
    "# Loading and Displaying Image\n",
    "path = \"/Document-Scanner\"\n",
    "img = cv.imread(\"/Document-Scanner/1.jpg\")\n",
    "img = cv.resize(img, (600,800))\n",
    "orig_image = img.copy()"
   ]
  },
  {
   "cell_type": "code",
   "execution_count": 6,
   "id": "f853d841",
   "metadata": {},
   "outputs": [
    {
     "data": {
      "text/plain": [
       "True"
      ]
     },
     "execution_count": 6,
     "metadata": {},
     "output_type": "execute_result"
    }
   ],
   "source": [
    "# Blurring and Edge Detection\n",
    "gray = cv.cvtColor(img, cv.COLOR_BGR2GRAY)# convert the image to gray scale\n",
    "blur = cv.GaussianBlur(gray, (5, 5), 0) # Add Gaussian blur\n",
    "cv.imwrite(path + \"result1blur.jpg\", blur)\n",
    "edged = cv.Canny(blur, 75, 200) # Apply the Canny algorithm to find the edges\n",
    "cv.imwrite(path + \"result2canny.jpg\", edged)\n",
    "\n"
   ]
  },
  {
   "cell_type": "code",
   "execution_count": 7,
   "id": "53413971",
   "metadata": {
    "scrolled": true
   },
   "outputs": [
    {
     "data": {
      "text/plain": [
       "True"
      ]
     },
     "execution_count": 7,
     "metadata": {},
     "output_type": "execute_result"
    }
   ],
   "source": [
    "# Getting Contours\n",
    "(contours, _) = cv.findContours(edged.copy(), cv.RETR_LIST, cv.CHAIN_APPROX_SIMPLE)\n",
    "contours = sorted(contours, key=cv.contourArea, reverse=True)\n",
    "cv.drawContours(img, contours, -1, blue, 3)\n",
    "cv.imwrite(path + \"result3drawcountour.jpg\", img)  "
   ]
  },
  {
   "cell_type": "code",
   "execution_count": 8,
   "id": "c4778ac2",
   "metadata": {},
   "outputs": [
    {
     "data": {
      "text/plain": [
       "True"
      ]
     },
     "execution_count": 8,
     "metadata": {},
     "output_type": "execute_result"
    }
   ],
   "source": [
    "# Selecting Highest Contour\n",
    "# go through each contour\n",
    "for c in contours:\n",
    "    peri = cv.arcLength(c, True)\n",
    "    approx = cv.approxPolyDP(c, 0.015 * peri, True)\n",
    "    if len(approx) == 4:\n",
    "        count = approx\n",
    "        break\n",
    "     # if found a countour with 4 points break the for loop\n",
    "    # Assuming document is found\n",
    "    # Drawing the contours on the original image\n",
    "cv.drawContours(img, [count], -1, green, 3)\n",
    "cv.imwrite(path + \"result4selectedcountour.jpg\", img)  \n"
   ]
  },
  {
   "cell_type": "code",
   "execution_count": 9,
   "id": "f7a38cb5",
   "metadata": {},
   "outputs": [],
   "source": [
    "# Finding Right Points\n",
    "# Create 4 lists with 2 places in the list represting x,y\n",
    "points = count.reshape(4, 2) \n",
    "input_points = np.zeros((4, 2), dtype=\"float32\") # Empty array to store corner points, same shape\n",
    "\n",
    "points_sum = points.sum(axis=1) # summing x and y\n",
    "input_points[0] = points[np.argmin(points_sum)] # Top left\n",
    "input_points[3] = points[np.argmax(points_sum)] # Bottom Right\n",
    "\n",
    "points_diff = np.diff(points, axis=1)  # Difference x and y\n",
    "input_points[1] = points[np.argmin(points_diff)] # top right\n",
    "input_points[2] = points[np.argmax(points_diff)] # bottom left\n",
    "\n",
    "# Dimension of new image = distance between point coordinates\n",
    "(tl, tr, br, bl) = input_points\n",
    "bottom_width = np.sqrt(((br[0] - bl[0]) ** 2) + ((br[1] - bl[1]) ** 2))\n",
    "top_width = np.sqrt(((tr[0] - tr[0]) ** 2) + ((tr[1] - tl[1]) ** 2))\n",
    "right_height = np.sqrt(((tr[0] - br[0]) ** 2) + ((tr[1] - br[1]) ** 2))\n",
    "left_height = np.sqrt(((tl[0] - bl[0]) ** 2) + ((tl[1] - bl[1]) ** 2))\n",
    "\n"
   ]
  },
  {
   "cell_type": "code",
   "execution_count": 10,
   "id": "c2b54cf4",
   "metadata": {},
   "outputs": [
    {
     "name": "stdout",
     "output_type": "stream",
     "text": [
      "Matrix [[0. 0.]\n",
      " [2. 0.]\n",
      " [0. 2.]\n",
      " [2. 2.]]\n"
     ]
    }
   ],
   "source": [
    "# Calculate output image size\n",
    "# Use max width and height\n",
    "max_width = max(int(bottom_width), int(top_width))\n",
    "#max_height = max(int(right_height), int(left_height))\n",
    "max_height = int(max_width * 1.414) # Aspect ratio for A4 1 :1.4142\n",
    "# Desired Point Values\n",
    "converted_points = np.float32([[0, 0], [max_width, 0], [0, max_height], [max_width, max_height]])\n",
    "print (\"Matrix\",converted_points)"
   ]
  },
  {
   "cell_type": "code",
   "execution_count": 11,
   "id": "a56a87ce",
   "metadata": {},
   "outputs": [
    {
     "data": {
      "text/plain": [
       "True"
      ]
     },
     "execution_count": 11,
     "metadata": {},
     "output_type": "execute_result"
    }
   ],
   "source": [
    "# Perspective Transformation\n",
    "matrix = cv.getPerspectiveTransform(input_points, converted_points)\n",
    "warped = cv.warpPerspective(orig_image, matrix, (max_width, max_height))\n",
    "cv.imwrite(path + \"result5Final.jpg\", warped)"
   ]
  },
  {
   "cell_type": "code",
   "execution_count": 12,
   "id": "eb9fb8fc",
   "metadata": {},
   "outputs": [
    {
     "data": {
      "text/plain": [
       "True"
      ]
     },
     "execution_count": 12,
     "metadata": {},
     "output_type": "execute_result"
    }
   ],
   "source": [
    "# Binary Image\n",
    "imgs = cv.cvtColor(warped, cv.COLOR_BGR2GRAY)\n",
    "th3 = cv.adaptiveThreshold(imgs, 255, cv.ADAPTIVE_THRESH_GAUSSIAN_C, cv.THRESH_BINARY, 11, 2);\n",
    "cv.imwrite(path + \"result6Tresh.jpg\", th3)"
   ]
  },
  {
   "cell_type": "code",
   "execution_count": null,
   "id": "89382ab9",
   "metadata": {},
   "outputs": [],
   "source": []
  }
 ],
 "metadata": {
  "kernelspec": {
   "display_name": "Python 3 (ipykernel)",
   "language": "python",
   "name": "python3"
  },
  "language_info": {
   "codemirror_mode": {
    "name": "ipython",
    "version": 3
   },
   "file_extension": ".py",
   "mimetype": "text/x-python",
   "name": "python",
   "nbconvert_exporter": "python",
   "pygments_lexer": "ipython3",
   "version": "3.9.7"
  }
 },
 "nbformat": 4,
 "nbformat_minor": 5
}
